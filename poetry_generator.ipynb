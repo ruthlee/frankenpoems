{
 "cells": [
  {
   "cell_type": "code",
   "execution_count": 8,
   "metadata": {},
   "outputs": [],
   "source": [
    "import poetrytools as pt"
   ]
  },
  {
   "cell_type": "code",
   "execution_count": 12,
   "metadata": {},
   "outputs": [
    {
     "name": "stdout",
     "output_type": "stream",
     "text": [
      "Metre: 11010101001 1111011101 1101011101 1101111100 1110011111 11111100010 1001010101 10111111110 1111011100 0101010101 0111110110 01011010100 1001111101 1101110101\n",
      "Rhyme scheme: aXaXbcbcdXdXee\n",
      "Stanza lengths: 14\n",
      "\n",
      "Closest metre: trochaic pentameter\n",
      "Closest rhyme: rima\n",
      "Closest stanza type: sonnet\n",
      "Guessed form: "
     ]
    },
    {
     "data": {
      "text/plain": [
       "'sonnet with unusual meter'"
      ]
     },
     "execution_count": 12,
     "metadata": {},
     "output_type": "execute_result"
    }
   ],
   "source": [
    "sonnet = \"\"\"From fairest creatures we desire increase,\n",
    "That thereby beauty's rose might never die,\n",
    "But as the riper should by time decease,\n",
    "His tender heir might bear his memory:\n",
    "But thou, contracted to thine own bright eyes,\n",
    "Feed'st thy light'st flame with self-substantial fuel,\n",
    "Making a famine where abundance lies,\n",
    "Thyself thy foe, to thy sweet self too cruel.\n",
    "Thou that art now the world's fresh ornament\n",
    "And only herald to the gaudy spring,\n",
    "Within thine own bud buriest thy content\n",
    "And, tender churl, makest waste in niggarding.\n",
    "Pity the world, or else this glutton be,\n",
    "To eat the world's due, by the grave and thee.\"\"\"\n",
    "\n",
    "pt.guess_form(pt.tokenize(sonnet), verbose = True)"
   ]
  },
  {
   "cell_type": "code",
   "execution_count": 13,
   "metadata": {},
   "outputs": [
    {
     "data": {
      "text/plain": [
       "[['From', 'fairest', 'creatures', 'we', 'desire', 'increase'],\n",
       " ['That', 'thereby', \"beauty's\", 'rose', 'might', 'never', 'die'],\n",
       " ['But', 'as', 'the', 'riper', 'should', 'by', 'time', 'decease'],\n",
       " ['His', 'tender', 'heir', 'might', 'bear', 'his', 'memory'],\n",
       " ['But', 'thou', 'contracted', 'to', 'thine', 'own', 'bright', 'eyes'],\n",
       " [\"Feed'st\", 'thy', \"light'st\", 'flame', 'with', 'selfsubstantial', 'fuel'],\n",
       " ['Making', 'a', 'famine', 'where', 'abundance', 'lies'],\n",
       " ['Thyself', 'thy', 'foe', 'to', 'thy', 'sweet', 'self', 'too', 'cruel'],\n",
       " ['Thou', 'that', 'art', 'now', 'the', \"world's\", 'fresh', 'ornament'],\n",
       " ['And', 'only', 'herald', 'to', 'the', 'gaudy', 'spring'],\n",
       " ['Within', 'thine', 'own', 'bud', 'buriest', 'thy', 'content'],\n",
       " ['And', 'tender', 'churl', 'makest', 'waste', 'in', 'niggarding'],\n",
       " ['Pity', 'the', 'world', 'or', 'else', 'this', 'glutton', 'be'],\n",
       " ['To', 'eat', 'the', \"world's\", 'due', 'by', 'the', 'grave', 'and', 'thee']]"
      ]
     },
     "execution_count": 13,
     "metadata": {},
     "output_type": "execute_result"
    }
   ],
   "source": [
    "poem = pt.tokenize(sonnet)\n",
    "poem"
   ]
  },
  {
   "cell_type": "code",
   "execution_count": null,
   "metadata": {},
   "outputs": [],
   "source": []
  }
 ],
 "metadata": {
  "kernelspec": {
   "display_name": "Python 3",
   "language": "python",
   "name": "python3"
  },
  "language_info": {
   "codemirror_mode": {
    "name": "ipython",
    "version": 3
   },
   "file_extension": ".py",
   "mimetype": "text/x-python",
   "name": "python",
   "nbconvert_exporter": "python",
   "pygments_lexer": "ipython3",
   "version": "3.7.6"
  }
 },
 "nbformat": 4,
 "nbformat_minor": 4
}
