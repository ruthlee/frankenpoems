{
 "cells": [
  {
   "cell_type": "code",
   "execution_count": 1,
   "metadata": {},
   "outputs": [],
   "source": [
    "import poetrytools as pt\n",
    "from poetrytools import guess_metre, tokenize, count_syllables\n",
    "import gzip, json\n",
    "import random\n",
    "import pandas as pd\n",
    "from tqdm.notebook import tqdm\n",
    "from time import sleep\n",
    "import matplotlib.pyplot as plt\n",
    "import pronouncing\n",
    "from collections import defaultdict\n",
    "import re"
   ]
  },
  {
   "cell_type": "markdown",
   "metadata": {},
   "source": [
    "# Frakenpoem Demo"
   ]
  },
  {
   "cell_type": "markdown",
   "metadata": {},
   "source": [
    "## Get the data "
   ]
  },
  {
   "cell_type": "markdown",
   "metadata": {},
   "source": [
    "Use the data provided by [Allison Parrish's repo](https://github.com/aparrish/gutenberg-poetry-corpus/blob/master/quick-experiments.ipynb) and code to unpack json. \n",
    "\n",
    "The goal: we want a dataframe which has the lines, the number of syllables the line has, and the meter of the line."
   ]
  },
  {
   "cell_type": "code",
   "execution_count": 168,
   "metadata": {},
   "outputs": [],
   "source": [
    "import gzip, json\n",
    "data = []\n",
    "for line in gzip.open(\"gutenberg-poetry-v001.ndjson.gz\"):\n",
    "    data.append(json.loads(line.strip()))"
   ]
  },
  {
   "cell_type": "code",
   "execution_count": 169,
   "metadata": {},
   "outputs": [
    {
     "data": {
      "text/plain": [
       "3085117"
      ]
     },
     "execution_count": 169,
     "metadata": {},
     "output_type": "execute_result"
    }
   ],
   "source": [
    "# 3 million lines of poetry data\n",
    "len(data)"
   ]
  },
  {
   "cell_type": "code",
   "execution_count": 170,
   "metadata": {},
   "outputs": [
    {
     "name": "stdout",
     "output_type": "stream",
     "text": [
      "It dies upon her heart, \n",
      "\n",
      "presentable. But men of sense know better than so to waste \n",
      "\n",
      "Our only playmates little fears-- \n",
      "\n",
      "Dazzling command and rich dominion, \n",
      "\n",
      "Tempers the fates of human race above; \n",
      "\n"
     ]
    }
   ],
   "source": [
    "# a sample\n",
    "indexes = [random.randint(1, 3000000) for i in range(5)]\n",
    "for i in range(len(indexes)):\n",
    "    print(data[indexes[i]]['s'], '\\n')"
   ]
  },
  {
   "cell_type": "code",
   "execution_count": 171,
   "metadata": {},
   "outputs": [
    {
     "data": {
      "text/html": [
       "<div>\n",
       "<style scoped>\n",
       "    .dataframe tbody tr th:only-of-type {\n",
       "        vertical-align: middle;\n",
       "    }\n",
       "\n",
       "    .dataframe tbody tr th {\n",
       "        vertical-align: top;\n",
       "    }\n",
       "\n",
       "    .dataframe thead th {\n",
       "        text-align: right;\n",
       "    }\n",
       "</style>\n",
       "<table border=\"1\" class=\"dataframe\">\n",
       "  <thead>\n",
       "    <tr style=\"text-align: right;\">\n",
       "      <th></th>\n",
       "      <th>text</th>\n",
       "    </tr>\n",
       "  </thead>\n",
       "  <tbody>\n",
       "    <tr>\n",
       "      <th>0</th>\n",
       "      <td>The Song of Hiawatha is based on the legends a...</td>\n",
       "    </tr>\n",
       "    <tr>\n",
       "      <th>1</th>\n",
       "      <td>many North American Indian tribes, but especia...</td>\n",
       "    </tr>\n",
       "    <tr>\n",
       "      <th>2</th>\n",
       "      <td>Ojibway Indians of northern Michigan, Wisconsi...</td>\n",
       "    </tr>\n",
       "    <tr>\n",
       "      <th>3</th>\n",
       "      <td>They were collected by Henry Rowe Schoolcraft,...</td>\n",
       "    </tr>\n",
       "    <tr>\n",
       "      <th>4</th>\n",
       "      <td>Schoolcraft married Jane, O-bah-bahm-wawa-ge-z...</td>\n",
       "    </tr>\n",
       "  </tbody>\n",
       "</table>\n",
       "</div>"
      ],
      "text/plain": [
       "                                                text\n",
       "0  The Song of Hiawatha is based on the legends a...\n",
       "1  many North American Indian tribes, but especia...\n",
       "2  Ojibway Indians of northern Michigan, Wisconsi...\n",
       "3  They were collected by Henry Rowe Schoolcraft,...\n",
       "4  Schoolcraft married Jane, O-bah-bahm-wawa-ge-z..."
      ]
     },
     "execution_count": 171,
     "metadata": {},
     "output_type": "execute_result"
    }
   ],
   "source": [
    "df = pd.DataFrame(data)\n",
    "df = df.rename({'s':'text'}, axis = 'columns')\n",
    "df = df.drop(['gid'], axis = 1)\n",
    "df.head()"
   ]
  },
  {
   "cell_type": "code",
   "execution_count": 172,
   "metadata": {},
   "outputs": [
    {
     "name": "stderr",
     "output_type": "stream",
     "text": [
      "/Users/211540/Library/Python/3.7/lib/python/site-packages/tqdm/std.py:668: FutureWarning: The Panel class is removed from pandas. Accessing it from the top-level namespace will also be removed in the next version\n",
      "  from pandas import Panel\n"
     ]
    },
    {
     "data": {
      "application/vnd.jupyter.widget-view+json": {
       "model_id": "02d02e30136e4a80a50c8e44cb0d6d2c",
       "version_major": 2,
       "version_minor": 0
      },
      "text/plain": [
       "HBox(children=(FloatProgress(value=0.0, description='progress', max=3085117.0, style=ProgressStyle(description…"
      ]
     },
     "metadata": {},
     "output_type": "display_data"
    },
    {
     "name": "stdout",
     "output_type": "stream",
     "text": [
      "\n"
     ]
    },
    {
     "data": {
      "application/vnd.jupyter.widget-view+json": {
       "model_id": "07eccfd6cecc42468539d41e813d77fd",
       "version_major": 2,
       "version_minor": 0
      },
      "text/plain": [
       "HBox(children=(FloatProgress(value=0.0, description='progress', max=3085117.0, style=ProgressStyle(description…"
      ]
     },
     "metadata": {},
     "output_type": "display_data"
    },
    {
     "name": "stdout",
     "output_type": "stream",
     "text": [
      "\n"
     ]
    }
   ],
   "source": [
    "meters = []\n",
    "syllables = []\n",
    "# for i in tqdm(range(len(df))):\n",
    "#     sleep(0.01)\n",
    "#     meters.append(guess_metre(tokenize(df.text[i]))[3])\n",
    "#     syllables.append(count_syllables(df.text[i]))\n",
    "tqdm.pandas(desc=\"progress\")\n",
    "\n",
    "def get_meters(x):\n",
    "    try:\n",
    "        return guess_metre(tokenize(x))[3]\n",
    "    except:\n",
    "        return \"null\"\n",
    "    \n",
    "def get_syllables(x):\n",
    "    try:\n",
    "        return count_syllables(x)\n",
    "    except:\n",
    "        return \"null\"\n",
    "\n",
    "df['meter'] = df['text'].progress_apply(lambda x: get_meters(x))\n",
    "df['syllables'] = df['text'].progress_apply(lambda x: get_syllables(x))"
   ]
  },
  {
   "cell_type": "code",
   "execution_count": 173,
   "metadata": {},
   "outputs": [
    {
     "name": "stdout",
     "output_type": "stream",
     "text": [
      "percentage of null meters:  0.00022981300222973716\n",
      "percentage of null syllables:  0.0\n"
     ]
    },
    {
     "name": "stderr",
     "output_type": "stream",
     "text": [
      "/usr/local/lib/python3.7/site-packages/pandas/core/ops/__init__.py:1115: FutureWarning: elementwise comparison failed; returning scalar instead, but in the future will perform elementwise comparison\n",
      "  result = method(y)\n"
     ]
    }
   ],
   "source": [
    "print(\"percentage of null meters: \", len(df[df.meter==\"null\"])/len(df))\n",
    "print(\"percentage of null syllables: \", len(df[df.syllables==\"null\"])/len(df))"
   ]
  },
  {
   "cell_type": "code",
   "execution_count": 174,
   "metadata": {},
   "outputs": [
    {
     "data": {
      "text/html": [
       "<div>\n",
       "<style scoped>\n",
       "    .dataframe tbody tr th:only-of-type {\n",
       "        vertical-align: middle;\n",
       "    }\n",
       "\n",
       "    .dataframe tbody tr th {\n",
       "        vertical-align: top;\n",
       "    }\n",
       "\n",
       "    .dataframe thead th {\n",
       "        text-align: right;\n",
       "    }\n",
       "</style>\n",
       "<table border=\"1\" class=\"dataframe\">\n",
       "  <thead>\n",
       "    <tr style=\"text-align: right;\">\n",
       "      <th></th>\n",
       "      <th>text</th>\n",
       "      <th>meter</th>\n",
       "      <th>syllables</th>\n",
       "    </tr>\n",
       "  </thead>\n",
       "  <tbody>\n",
       "    <tr>\n",
       "      <th>0</th>\n",
       "      <td>The Song of Hiawatha is based on the legends a...</td>\n",
       "      <td>iambic trimeter</td>\n",
       "      <td>17</td>\n",
       "    </tr>\n",
       "    <tr>\n",
       "      <th>1</th>\n",
       "      <td>many North American Indian tribes, but especia...</td>\n",
       "      <td>trochaic tetrameter</td>\n",
       "      <td>19</td>\n",
       "    </tr>\n",
       "    <tr>\n",
       "      <th>2</th>\n",
       "      <td>Ojibway Indians of northern Michigan, Wisconsi...</td>\n",
       "      <td>trochaic tetrameter</td>\n",
       "      <td>19</td>\n",
       "    </tr>\n",
       "    <tr>\n",
       "      <th>3</th>\n",
       "      <td>They were collected by Henry Rowe Schoolcraft,...</td>\n",
       "      <td>trochaic tetrameter</td>\n",
       "      <td>17</td>\n",
       "    </tr>\n",
       "    <tr>\n",
       "      <th>4</th>\n",
       "      <td>Schoolcraft married Jane, O-bah-bahm-wawa-ge-z...</td>\n",
       "      <td>iambic trimeter</td>\n",
       "      <td>15</td>\n",
       "    </tr>\n",
       "  </tbody>\n",
       "</table>\n",
       "</div>"
      ],
      "text/plain": [
       "                                                text                meter  \\\n",
       "0  The Song of Hiawatha is based on the legends a...      iambic trimeter   \n",
       "1  many North American Indian tribes, but especia...  trochaic tetrameter   \n",
       "2  Ojibway Indians of northern Michigan, Wisconsi...  trochaic tetrameter   \n",
       "3  They were collected by Henry Rowe Schoolcraft,...  trochaic tetrameter   \n",
       "4  Schoolcraft married Jane, O-bah-bahm-wawa-ge-z...      iambic trimeter   \n",
       "\n",
       "   syllables  \n",
       "0         17  \n",
       "1         19  \n",
       "2         19  \n",
       "3         17  \n",
       "4         15  "
      ]
     },
     "execution_count": 174,
     "metadata": {},
     "output_type": "execute_result"
    }
   ],
   "source": [
    "df.head()"
   ]
  },
  {
   "cell_type": "code",
   "execution_count": 213,
   "metadata": {},
   "outputs": [
    {
     "data": {
      "text/html": [
       "<div>\n",
       "<style scoped>\n",
       "    .dataframe tbody tr th:only-of-type {\n",
       "        vertical-align: middle;\n",
       "    }\n",
       "\n",
       "    .dataframe tbody tr th {\n",
       "        vertical-align: top;\n",
       "    }\n",
       "\n",
       "    .dataframe thead th {\n",
       "        text-align: right;\n",
       "    }\n",
       "</style>\n",
       "<table border=\"1\" class=\"dataframe\">\n",
       "  <thead>\n",
       "    <tr style=\"text-align: right;\">\n",
       "      <th></th>\n",
       "      <th>text</th>\n",
       "      <th>syllables</th>\n",
       "    </tr>\n",
       "    <tr>\n",
       "      <th>meter</th>\n",
       "      <th></th>\n",
       "      <th></th>\n",
       "    </tr>\n",
       "  </thead>\n",
       "  <tbody>\n",
       "    <tr>\n",
       "      <th>iambic pentameter</th>\n",
       "      <td>599160</td>\n",
       "      <td>599160</td>\n",
       "    </tr>\n",
       "    <tr>\n",
       "      <th>iambic tetrameter</th>\n",
       "      <td>393476</td>\n",
       "      <td>393476</td>\n",
       "    </tr>\n",
       "    <tr>\n",
       "      <th>iambic trimeter</th>\n",
       "      <td>891370</td>\n",
       "      <td>891370</td>\n",
       "    </tr>\n",
       "    <tr>\n",
       "      <th>null</th>\n",
       "      <td>709</td>\n",
       "      <td>709</td>\n",
       "    </tr>\n",
       "    <tr>\n",
       "      <th>trochaic pentameter</th>\n",
       "      <td>253590</td>\n",
       "      <td>253590</td>\n",
       "    </tr>\n",
       "    <tr>\n",
       "      <th>trochaic tetrameter</th>\n",
       "      <td>946812</td>\n",
       "      <td>946812</td>\n",
       "    </tr>\n",
       "  </tbody>\n",
       "</table>\n",
       "</div>"
      ],
      "text/plain": [
       "                       text  syllables\n",
       "meter                                 \n",
       "iambic pentameter    599160     599160\n",
       "iambic tetrameter    393476     393476\n",
       "iambic trimeter      891370     891370\n",
       "null                    709        709\n",
       "trochaic pentameter  253590     253590\n",
       "trochaic tetrameter  946812     946812"
      ]
     },
     "execution_count": 213,
     "metadata": {},
     "output_type": "execute_result"
    }
   ],
   "source": [
    "df.groupby(['meter']).count()"
   ]
  },
  {
   "cell_type": "code",
   "execution_count": 190,
   "metadata": {},
   "outputs": [
    {
     "data": {
      "text/plain": [
       "[]"
      ]
     },
     "execution_count": 190,
     "metadata": {},
     "output_type": "execute_result"
    },
    {
     "data": {
      "image/png": "[encoded data removed]",
      "text/plain": [
       "<Figure size 432x288 with 1 Axes>"
      ]
     },
     "metadata": {
      "needs_background": "light"
     },
     "output_type": "display_data"
    }
   ],
   "source": [
    "plt.hist(df.syllables)\n",
    "plt.title(\"Syllables\")\n",
    "plt.plot()"
   ]
  },
  {
   "cell_type": "code",
   "execution_count": 427,
   "metadata": {},
   "outputs": [],
   "source": [
    "df.to_pickle(\"data.pkl.compress\", compression=\"gzip\")"
   ]
  },
  {
   "cell_type": "markdown",
   "metadata": {},
   "source": [
    "## Creation of Frankenbot and the Frankenpoems"
   ]
  },
  {
   "cell_type": "markdown",
   "metadata": {},
   "source": [
    "The basic poem-generating structure will be:\n",
    "1. Define hyperparameters for the structure of the poem (length/ number of line breaks)\n",
    "2. Define helper functions:\n",
    "    - Get the last word of a line. This will be helpful when we need rhymes later on.\n",
    "    - Pick the first line of the poem. It's like the \"seed line\" which will determine the meter and general line length of the poem. \n",
    "    - Helper function which will create a rhyme dictionary data structure exactly like the one that Allison Parrish does (here)[https://github.com/aparrish/gutenberg-poetry-corpus/blob/master/quick-experiments.ipynb]\n",
    "3. Write the poem\n",
    "    - Each line and whether there is a line break is essentially determined randomly by \"a roll of the dice\" \n",
    "    - Sometimes the rhyme scheme will shift and a \"new seed\" is planted"
   ]
  },
  {
   "cell_type": "code",
   "execution_count": 2,
   "metadata": {},
   "outputs": [],
   "source": [
    "df = pd.read_pickle(\"data.pkl.compress\", compression=\"gzip\")"
   ]
  },
  {
   "cell_type": "code",
   "execution_count": 10,
   "metadata": {},
   "outputs": [],
   "source": [
    "def define_structure():\n",
    "    length = random.randint(4, 10)\n",
    "    line_breaks = random.randint(1, length-1)\n",
    "    return length, line_breaks\n",
    "\n",
    "def get_last_word(line):\n",
    "    match = re.search(r'(\\b\\w+\\b)\\W*$', line)\n",
    "    if match:\n",
    "        last_word = match.group()\n",
    "    last_word = re.sub(r'[^\\w\\s]', '', last_word)\n",
    "    return last_word\n",
    "\n",
    "def pick_first_line(df):\n",
    "    last_word = \"\"\n",
    "    while last_word == \"\":\n",
    "        index = random.randint(1, len(df))\n",
    "        first_line = df.text[index]\n",
    "        last_word = get_last_word(first_line)\n",
    "    return (index, df.text[index], last_word)\n",
    "\n",
    "def get_rhyme_dict(pruned_df):\n",
    "    by_rhyming_part = defaultdict(lambda: defaultdict(list))\n",
    "    for line in tqdm(pruned_df.text):\n",
    "        match = re.search(r'(\\b\\w+\\b)\\W*$', line)\n",
    "        if match:\n",
    "            last_word = match.group()\n",
    "            pronunciations = pronouncing.phones_for_word(last_word)\n",
    "            if len(pronunciations) > 0:\n",
    "                rhyming_part = pronouncing.rhyming_part(pronunciations[0])\n",
    "                # group by rhyming phones (for rhymes) and words (to avoid duplicate words)\n",
    "                by_rhyming_part[rhyming_part][last_word.lower()].append(line)     \n",
    "    return by_rhyming_part\n",
    "\n",
    "def write_poem(df):\n",
    "    length, line_breaks = define_structure()\n",
    "    \n",
    "    # pick the first line and get the last word of that first line\n",
    "    index, first_line, last_word = pick_first_line(df)\n",
    "            \n",
    "    # prune the dataframe so that we restrict the number of syllables and the meter\n",
    "    pruned_df = df[df.meter == df.meter[index]]\n",
    "    pruned_df = df[(df.syllables > df.syllables[index]-3) & (df.syllables < df.syllables[index]+2)]\n",
    "    \n",
    "    # get the rhyme_dict for the pruned df so we can rhyme lines\n",
    "    rhyme_dict = get_rhyme_dict(pruned_df)\n",
    "    \n",
    "    # print the first line \n",
    "    print(first_line)\n",
    "    \n",
    "    break_here = False\n",
    "    \n",
    "    # now make the rest of the poem\n",
    "    line = first_line\n",
    "    for i in range(length):\n",
    "            \n",
    "        if break_here and line_breaks > 0:\n",
    "            print(\"\\n\")\n",
    "            line_breaks-=1\n",
    "            break_here = False\n",
    "        \n",
    "        # the random number will determine what we do...\n",
    "        x = random.randint(1, 6)\n",
    "        y = random.randint(1, 6)\n",
    "        magic_number = x + y \n",
    "                        \n",
    "        # if we roll greater than or equal to 7 all hell breaks loose - no more rhyming \n",
    "        if (magic_number >= 9):\n",
    "            line = random.choice(list(pruned_df.text))\n",
    "            print(line)\n",
    "            continue\n",
    "        \n",
    "        # line break on the next line\n",
    "        if (magic_number < 6):\n",
    "            break_here = True\n",
    "        \n",
    "        # print a rhyming line by getting the rhyming part of the last word, then choosing a random rhyming line \n",
    "        # from the rhyme_dict\n",
    "        last_word = get_last_word(line)\n",
    "        try:\n",
    "            p = pronouncing.phones_for_word(last_word)\n",
    "            rp = pronouncing.rhyming_part(p[0])\n",
    "            random_key = random.choice(list(rhyme_dict[rp].keys()))\n",
    "            new_line = random.choice(rhyme_dict[rp][random_key])\n",
    "        except:\n",
    "            new_line = random.choice(list(pruned_df.text))\n",
    "        \n",
    "        print(new_line)\n",
    "        line = new_line\n",
    "            "
   ]
  },
  {
   "cell_type": "code",
   "execution_count": null,
   "metadata": {},
   "outputs": [
    {
     "data": {
      "application/vnd.jupyter.widget-view+json": {
       "model_id": "ef7ab349150a457b9b53f7dbdd35cdf9",
       "version_major": 2,
       "version_minor": 0
      },
      "text/plain": [
       "HBox(children=(FloatProgress(value=0.0, max=1511199.0), HTML(value='')))"
      ]
     },
     "metadata": {},
     "output_type": "display_data"
    }
   ],
   "source": [
    "write_poem(df)"
   ]
  },
  {
   "cell_type": "code",
   "execution_count": null,
   "metadata": {},
   "outputs": [],
   "source": []
  }
 ],
 "metadata": {
  "kernelspec": {
   "display_name": "Python 3",
   "language": "python",
   "name": "python3"
  },
  "language_info": {
   "codemirror_mode": {
    "name": "ipython",
    "version": 3
   },
   "file_extension": ".py",
   "mimetype": "text/x-python",
   "name": "python",
   "nbconvert_exporter": "python",
   "pygments_lexer": "ipython3",
   "version": "3.7.6"
  }
 },
 "nbformat": 4,
 "nbformat_minor": 4
}
